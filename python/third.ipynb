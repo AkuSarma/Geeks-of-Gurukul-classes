{
 "cells": [
  {
   "cell_type": "code",
   "execution_count": 10,
   "metadata": {},
   "outputs": [
    {
     "name": "stdout",
     "output_type": "stream",
     "text": [
      "{'name': 'Aku Sarma', 'phone': '0123654789', 'address': 'Guwahati'}\n",
      "<class 'dict'>\n"
     ]
    }
   ],
   "source": [
    "iDict = {\n",
    "    \"name\":\"Aku Sarma\",\n",
    "    \"phone\":\"0123654789\",\n",
    "    \"address\":\"Guwahati\",\n",
    "}\n",
    "\n",
    "print(iDict)\n",
    "print(type(iDict))"
   ]
  },
  {
   "cell_type": "code",
   "execution_count": 11,
   "metadata": {},
   "outputs": [
    {
     "name": "stdout",
     "output_type": "stream",
     "text": [
      "{'job': 'Software developer', 'skills': 'MERN', 'dream company': 'Google'}\n"
     ]
    }
   ],
   "source": [
    "aim = {\n",
    "    \"job\":\"Software developer\",\n",
    "    \"skills\":\"MERN\",\n",
    "    \"dream company\":\"Google\",\n",
    "}\n",
    "\n",
    "print(aim)"
   ]
  },
  {
   "cell_type": "code",
   "execution_count": 12,
   "metadata": {},
   "outputs": [
    {
     "name": "stdout",
     "output_type": "stream",
     "text": [
      "['False', 'None', 'True', 'and', 'as', 'assert', 'async', 'await', 'break', 'class', 'continue', 'def', 'del', 'elif', 'else', 'except', 'finally', 'for', 'from', 'global', 'if', 'import', 'in', 'is', 'lambda', 'nonlocal', 'not', 'or', 'pass', 'raise', 'return', 'try', 'while', 'with', 'yield']\n"
     ]
    }
   ],
   "source": [
    "import keyword\n",
    "\n",
    "print(keyword.kwlist)"
   ]
  },
  {
   "cell_type": "code",
   "execution_count": 20,
   "metadata": {},
   "outputs": [
    {
     "name": "stdout",
     "output_type": "stream",
     "text": [
      "0\n",
      "7\n",
      "0b111\n"
     ]
    }
   ],
   "source": [
    "print(3>>2) # 2 right shift\n",
    "print(3|4)\n",
    "\n",
    "print(bin(7))"
   ]
  },
  {
   "cell_type": "code",
   "execution_count": 19,
   "metadata": {},
   "outputs": [
    {
     "name": "stdout",
     "output_type": "stream",
     "text": [
      "5\n",
      "20\n"
     ]
    }
   ],
   "source": [
    "'''\n",
    "In left shift it divides 2\n",
    "and in right shift it multiplies by 2\n",
    "'''\n",
    "\n",
    "print(10>>1)\n",
    "print(10<<1)"
   ]
  }
 ],
 "metadata": {
  "kernelspec": {
   "display_name": "Python 3",
   "language": "python",
   "name": "python3"
  },
  "language_info": {
   "codemirror_mode": {
    "name": "ipython",
    "version": 3
   },
   "file_extension": ".py",
   "mimetype": "text/x-python",
   "name": "python",
   "nbconvert_exporter": "python",
   "pygments_lexer": "ipython3",
   "version": "3.12.2"
  }
 },
 "nbformat": 4,
 "nbformat_minor": 2
}
