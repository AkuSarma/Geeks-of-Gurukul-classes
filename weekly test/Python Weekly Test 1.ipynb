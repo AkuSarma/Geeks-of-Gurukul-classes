{
  "cells": [
    {
      "cell_type": "markdown",
      "metadata": {
        "id": "5ghP3HhRDWJB"
      },
      "source": [
        "You are designing a social networking website that makes everyone make friends in their neighborhood. But, the distance within which people can make friends depends on their age. \n",
        "* If a person is of age less than 13, they can make friends within 1 Kms of their area \n",
        "* if the age of person is greater than or equal to 13 but less than 18, they can make friends within 5 Kms of their area\n",
        "* if the age of the person is greater than or equal to  18 but less than 30, then they can make friends within 10 Kms of their area, \n",
        "* else the person can make friends from anywhere.\n",
        "\n",
        "\n",
        "-----------------------------------\n",
        "Take the age of the person as input from the user and Print the following as per the condition:\n",
        "\n",
        "* If the age of the person is less than 13 print \"1 Kms\"\n",
        "* else if the age of the person is more than or equal to 13, and less than 18, then print \"5 Kms\", \n",
        "* else if the age of the person is greater than or equal to 18 and less than 30, then print \"10 Kms\", \n",
        "* else print \"You can have friends from anywhere\".\n",
        "\n",
        "\n",
        "\n",
        "**Example 1:**\n",
        "age= 15\n",
        "\n",
        "**Sample Output:** 5 Kms\n",
        "\n",
        "age=30\n",
        "\n",
        "**Sample Output:** You can have friends from anywhere \n"
      ]
    },
    {
      "cell_type": "code",
      "execution_count": 27,
      "metadata": {
        "id": "3qXDaLQWKLbh"
      },
      "outputs": [
        {
          "name": "stdout",
          "output_type": "stream",
          "text": [
            "5 Kms\n"
          ]
        }
      ],
      "source": [
        "age = int(input(\"Enter your age: \"))\n",
        "\n",
        "if age<13:\n",
        "    print(\"1 Kms\")\n",
        "elif age>=13 and age<18:\n",
        "    print(\"5 Kms\")\n",
        "elif age>=18 and age<30:\n",
        "    print(\"10 Kms\")\n",
        "else:\n",
        "    print(\"You can have friends from anywhere\")\n"
      ]
    },
    {
      "cell_type": "markdown",
      "metadata": {
        "id": "6jO0ZKRGJvQq"
      },
      "source": [
        "You are given an array, stored in a variable with the name `array`\n",
        "\n",
        "Take another number from the user stored in a variable with the name K\n",
        "\n",
        "\n",
        "Take `array=[1,2,3,4,5]`\n",
        "\n",
        "Print the output according to the following conditions\n",
        "\n",
        "1. If the count of even elements in the array is greater than the value stored in K, print \"Nice Array\", without quotes\n",
        "\n",
        "2. Else, print \"Bad Array\", without quotes\n",
        "\n",
        "**Example 1:** k=1\n",
        "\n",
        "**Sample Output 1:** Bad Array\n",
        "\n",
        "**Example 2:** k=1\n",
        "\n",
        "**Sample Output 2:** Nice Array\n",
        "\n",
        "\n",
        "\n",
        "\n"
      ]
    },
    {
      "cell_type": "code",
      "execution_count": 28,
      "metadata": {
        "id": "4BZ5DzXGOFtP"
      },
      "outputs": [
        {
          "name": "stdout",
          "output_type": "stream",
          "text": [
            "Nice Array\n"
          ]
        }
      ],
      "source": [
        "arr = [1,2,3,4,5]\n",
        "k = int(input(\"Enter the number: \"))\n",
        "\n",
        "count = 0\n",
        "\n",
        "for i in arr:\n",
        "    if i%2==0:\n",
        "        count += 1\n",
        "\n",
        "# print(count)\n",
        "if count>k:\n",
        "    print(\"Nice Array\")\n",
        "else:\n",
        "    print(\"Bad Array\")"
      ]
    },
    {
      "cell_type": "markdown",
      "metadata": {
        "id": "3ZhBZaWYLsT4"
      },
      "source": [
        "You are given an array. Print the odd traversal of array of size N. Odd traversal means print only the values stored at odd indexes.\n",
        "\n",
        "Note : Consider the indexing in the array starts from 0. The values must be printed in the order in which they arrive in the array.\n",
        "\n",
        "\n",
        "`array=[1,2,3,4,5]`\n",
        "\n",
        "**Required Output:**  [2,4]\n",
        "\n",
        "\n"
      ]
    },
    {
      "cell_type": "code",
      "execution_count": 29,
      "metadata": {
        "id": "aEp1HaE3Oj46"
      },
      "outputs": [
        {
          "name": "stdout",
          "output_type": "stream",
          "text": [
            "[1, 2, 3, 4, 5]\n"
          ]
        }
      ],
      "source": [
        "arr = [1,2,3,4,5]\n",
        "ans = []\n",
        "\n",
        "for i, v in enumerate(arr):\n",
        "    if i%2==0:\n",
        "        ans.append(v)\n",
        "\n",
        "print(arr)"
      ]
    },
    {
      "cell_type": "markdown",
      "metadata": {
        "id": "44nhptR4QVMG"
      },
      "source": [
        "You are given an array A of N integers along with a target integer, K. Your task is to find out the number of pairs of integers present in the array whose sum is equal to the target value.\n",
        "\n",
        "A=[3,0,6,2,7]\n",
        "\n",
        "Take Target integer k from the user.\n",
        "\n",
        "**Example:** k=9\n",
        "\n",
        "**Expected Output:** 2\n",
        "\n",
        "**Explanation:** 3+6, 2+7\n",
        "\n",
        "\n"
      ]
    },
    {
      "cell_type": "code",
      "execution_count": 32,
      "metadata": {
        "id": "VipHY7yBRNRT"
      },
      "outputs": [
        {
          "name": "stdout",
          "output_type": "stream",
          "text": [
            "2\n"
          ]
        }
      ],
      "source": [
        "n = int(input(\"length of array: \"))\n",
        "k = int(input(\"number to equal: \"))\n",
        "arr = []\n",
        "count = 0\n",
        "for i in range(n):\n",
        "    arr.append(int(input(f\"Enter {i} element\")))\n",
        "\n",
        "for i in range(n-1):\n",
        "    for j in range(i+1, n):\n",
        "        if arr[i] + arr[j] == k:\n",
        "            count += 1\n",
        "            # print(f\"{arr[i]} {arr[j]}\")\n",
        "\n",
        "print(count)"
      ]
    },
    {
      "cell_type": "markdown",
      "metadata": {
        "id": "5PelSIe6RN3d"
      },
      "source": [
        "Take a string from the user and reverse it.\n",
        "\n",
        "**Example:** str=\"BASTA\"\n",
        "\n",
        "**Output:** \"ATSAB\""
      ]
    },
    {
      "cell_type": "code",
      "execution_count": 33,
      "metadata": {
        "id": "DuHy1vDmTv4T"
      },
      "outputs": [
        {
          "name": "stdout",
          "output_type": "stream",
          "text": [
            "BASTA\n",
            "ATSAB\n"
          ]
        }
      ],
      "source": [
        "s = input(\"Enter a string: \")\n",
        "print(s)\n",
        "s = list(s)\n",
        "l = len(s)  \n",
        "\n",
        "\n",
        "for i in range(int(l / 2)):\n",
        "    temp = s[i]\n",
        "    s[i] = s[l - 1 - i]\n",
        "    s[l - 1 - i] = temp\n",
        "\n",
        "\n",
        "print(''.join(s))"
      ]
    },
    {
      "cell_type": "markdown",
      "metadata": {
        "id": "6aNh3f2qTxVR"
      },
      "source": [
        "Take a string(sentence)  from the user and find the number of words the given sentence has.\n",
        "\n",
        "**Example:** \"Python is simple and awesome\"\n",
        "**Output:** 5"
      ]
    },
    {
      "cell_type": "code",
      "execution_count": 34,
      "metadata": {
        "id": "bF94sFYTUbOM"
      },
      "outputs": [
        {
          "name": "stdout",
          "output_type": "stream",
          "text": [
            "5\n"
          ]
        }
      ],
      "source": [
        "s = input(\"Enter a sentence\").split(\" \")\n",
        "\n",
        "print(len(s))"
      ]
    }
  ],
  "metadata": {
    "colab": {
      "collapsed_sections": [],
      "provenance": []
    },
    "kernelspec": {
      "display_name": "Python 3",
      "name": "python3"
    },
    "language_info": {
      "codemirror_mode": {
        "name": "ipython",
        "version": 3
      },
      "file_extension": ".py",
      "mimetype": "text/x-python",
      "name": "python",
      "nbconvert_exporter": "python",
      "pygments_lexer": "ipython3",
      "version": "3.12.6"
    }
  },
  "nbformat": 4,
  "nbformat_minor": 0
}
